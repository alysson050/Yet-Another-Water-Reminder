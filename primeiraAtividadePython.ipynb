{
  "nbformat": 4,
  "nbformat_minor": 0,
  "metadata": {
    "colab": {
      "provenance": [],
      "authorship_tag": "ABX9TyNJkEcr14Xifs1IfjoLq/Wq",
      "include_colab_link": true
    },
    "kernelspec": {
      "name": "python3",
      "display_name": "Python 3"
    },
    "language_info": {
      "name": "python"
    }
  },
  "cells": [
    {
      "cell_type": "markdown",
      "metadata": {
        "id": "view-in-github",
        "colab_type": "text"
      },
      "source": [
        "<a href=\"https://colab.research.google.com/github/alysson050/Yet-Another-Water-Reminder/blob/main/primeiraAtividadePython.ipynb\" target=\"_parent\"><img src=\"https://colab.research.google.com/assets/colab-badge.svg\" alt=\"Open In Colab\"/></a>"
      ]
    },
    {
      "cell_type": "code",
      "execution_count": 47,
      "metadata": {
        "colab": {
          "base_uri": "https://localhost:8080/"
        },
        "id": "87tLbfzdE6Qk",
        "outputId": "e890397e-18b4-4e37-cbc2-e772da3bec72"
      },
      "outputs": [
        {
          "output_type": "stream",
          "name": "stdout",
          "text": [
            "Digite um numero: 12\n",
            "Digite outro numero: 13\n",
            "O resultado da soma é: 25\n"
          ]
        }
      ],
      "source": [
        " num1 = int(input('Digite um numero: '))\n",
        "\n",
        " num2 = int(input('Digite outro numero: '))\n",
        "\n",
        "soma = num1 + num2\n",
        "num_convert = float(soma)\n",
        "print('O resultado da soma é:', soma)\n",
        "\n",
        "\n",
        "\n",
        "\n"
      ]
    },
    {
      "cell_type": "code",
      "source": [
        "num1 = int(input('Digite um numero: '))\n",
        "\n",
        "num2 = int(input('Digite outro numero: '))\n",
        "\n",
        "soma = num1 + num2\n",
        "num_convert = float(soma)\n",
        "print('O resultado da soma é:', soma)\n",
        "soma = num1 + num2\n",
        "\n",
        "type(soma)\n",
        "print('soma', type(soma))\n",
        "\n",
        "num_convert = float(soma)\n",
        "print('soma', type(num_convert))\n",
        "\n",
        "num_float = float(soma)\n",
        "print('soma', num_float)\n",
        "\n"
      ],
      "metadata": {
        "colab": {
          "base_uri": "https://localhost:8080/"
        },
        "id": "xwvXBvkhaNNW",
        "outputId": "68c5e970-ee9a-4b3b-e561-8c9fc3d52a9b"
      },
      "execution_count": 48,
      "outputs": [
        {
          "output_type": "stream",
          "name": "stdout",
          "text": [
            "Digite um numero: 13\n",
            "Digite outro numero: 14\n",
            "O resultado da soma é: 27\n",
            "soma <class 'int'>\n",
            "soma <class 'float'>\n",
            "soma 27.0\n"
          ]
        }
      ]
    },
    {
      "cell_type": "code",
      "source": [
        "\n",
        "num1 = float(input(\"Digite o primeiro número: \"))\n",
        "num2 = float(input(\"Digite o segundo número: \"))\n",
        "\n",
        "\n",
        "soma = num1 + num2\n",
        "subtracao = num1 - num2\n",
        "multiplicacao = num1 * num2\n",
        "\n",
        "if num2 != 0:\n",
        "    divisao = num1 / num2\n",
        "else:\n",
        "    divisao = \"Indefinida (não é possível dividir por zero)\"\n",
        "\n",
        "print(\"Resultados das operações:\")\n",
        "print(f\"Soma: {soma}\")\n",
        "print(f\"Subtração: {subtracao}\")\n",
        "print(f\"Multiplicação: {multiplicacao}\")\n",
        "print(f\"Divisão: {divisao}\")"
      ],
      "metadata": {
        "colab": {
          "base_uri": "https://localhost:8080/"
        },
        "id": "WqfRft-ofy8y",
        "outputId": "4dc62487-a21d-41a7-eb56-75d7db997b1c"
      },
      "execution_count": 49,
      "outputs": [
        {
          "output_type": "stream",
          "name": "stdout",
          "text": [
            "Digite o primeiro número: 13\n",
            "Digite o segundo número: 14\n",
            "Resultados das operações:\n",
            "Soma: 27.0\n",
            "Subtração: -1.0\n",
            "Multiplicação: 182.0\n",
            "Divisão: 0.9285714285714286\n"
          ]
        }
      ]
    },
    {
      "cell_type": "code",
      "source": [
        "while True:\n",
        "    print(\"\\nEscolha uma operação:\")\n",
        "    print(\"1. Soma\")\n",
        "    print(\"2. Subtração\")\n",
        "    print(\"3. Multiplicação\")\n",
        "    print(\"4. Divisão\")\n",
        "    print(\"5. Sair\")\n",
        "\n",
        "\n",
        "    escolha = input(\"Digite o número da operação desejada: \")\n",
        "\n",
        "    if escolha == \"5\":\n",
        "        print(\"Encerrando o programa. Até mais!\")\n",
        "        break\n",
        "\n",
        "    if escolha in [\"1\", \"2\", \"3\", \"4\"]:\n",
        "\n",
        "        num1 = float(input(\"Digite o primeiro número: \"))\n",
        "        num2 = float(input(\"Digite o segundo número: \"))\n",
        "\n",
        "\n",
        "        if escolha == \"1\":\n",
        "            resultado = num1 + num2\n",
        "            print(f\"Resultado da soma: {resultado}\")\n",
        "        elif escolha == \"2\":\n",
        "            resultado = num1 - num2\n",
        "            print(f\"Resultado da subtração: {resultado}\")\n",
        "        elif escolha == \"3\":\n",
        "            resultado = num1 * num2\n",
        "            print(f\"Resultado da multiplicação: {resultado}\")\n",
        "        elif escolha == \"4\":\n",
        "            if num2 != 0:\n",
        "                resultado = num1 / num2\n",
        "                print(f\"Resultado da divisão: {resultado}\")\n",
        "            else:\n",
        "                print(\"Divisão por zero não é permitida!\")\n",
        "    else:\n",
        "        print(\"Opção inválida. Tente novamente!\")\n"
      ],
      "metadata": {
        "colab": {
          "base_uri": "https://localhost:8080/"
        },
        "id": "JxM84xt8ga__",
        "outputId": "9686af0b-6a5c-4cad-9b0f-c8e8dc7380c1"
      },
      "execution_count": 46,
      "outputs": [
        {
          "output_type": "stream",
          "name": "stdout",
          "text": [
            "\n",
            "Escolha uma operação:\n",
            "1. Soma\n",
            "2. Subtração\n",
            "3. Multiplicação\n",
            "4. Divisão\n",
            "5. Sair\n",
            "Digite o número da operação desejada: 2\n",
            "Digite o primeiro número: 13\n",
            "Digite o segundo número: 12\n",
            "Resultado da subtração: 1.0\n",
            "\n",
            "Escolha uma operação:\n",
            "1. Soma\n",
            "2. Subtração\n",
            "3. Multiplicação\n",
            "4. Divisão\n",
            "5. Sair\n",
            "Digite o número da operação desejada: 5\n",
            "Encerrando o programa. Até mais!\n"
          ]
        }
      ]
    }
  ]
}